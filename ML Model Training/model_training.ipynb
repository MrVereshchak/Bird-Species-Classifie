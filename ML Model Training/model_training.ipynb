{
 "cells": [
  {
   "cell_type": "markdown",
   "metadata": {},
   "source": [
    "# Bird Image Classifier Training Script\n",
    "### This notebook downloads bird images, trains a model using FastAI, and allows predictions."
   ]
  },
  {
   "cell_type": "code",
   "execution_count": null,
   "metadata": {},
   "outputs": [],
   "source": [
    "# Imports\n",
    "import os\n",
    "from pathlib import Path\n",
    "from fastai.vision.all import *\n",
    "from duckduckgo_search import DDGS\n",
    "from fastcore.all import *"
   ]
  },
  {
   "cell_type": "code",
   "execution_count": null,
   "metadata": {},
   "outputs": [],
   "source": [
    "# Check if running on Kaggle\n",
    "iskaggle = os.environ.get('KAGGLE_KERNEL_RUN_TYPE', '')\n",
    "\n",
    "if iskaggle:\n",
    "    !pip install -Uqq fastai duckduckgo_search  # Install required libraries on Kaggle"
   ]
  },
  {
   "cell_type": "markdown",
   "metadata": {},
   "source": [
    "## Step 1: Download Images of Birds"
   ]
  },
  {
   "cell_type": "code",
   "execution_count": null,
   "metadata": {},
   "outputs": [],
   "source": [
    "def search_images(term, max_images=30):\n",
    "    \"\"\"\n",
    "    Search and download image URLs using DuckDuckGo.\n",
    "\n",
    "    Args:\n",
    "        term (str): Search term.\n",
    "        max_images (int): Maximum number of images to return.\n",
    "\n",
    "    Returns:\n",
    "        List[str]: List of image URLs.\n",
    "    \"\"\"\n",
    "    print(f\"Searching for '{term}'\")\n",
    "    with DDGS() as ddgs:\n",
    "        results = ddgs.images(term, max_results=max_images)\n",
    "    return L(results).itemgot('image')"
   ]
  },
  {
   "cell_type": "code",
   "execution_count": null,
   "metadata": {},
   "outputs": [],
   "source": [
    "# List of bird species\n",
    "bird_species = [\n",
    "    \"Northern Cardinal\", \"Blue Jay\", \"American Crow\", \"Black-capped Chickadee\",\n",
    "    \"White-breasted Nuthatch\", \"Mourning Dove\", \"House Sparrow\", \"House Finch\",\n",
    "    \"Downy Woodpecker\", \"Red-bellied Woodpecker\", \"Tufted Titmouse\", \"Carolina Wren\",\n",
    "    \"Eastern Screech-Owl\", \"Great Horned Owl\", \"American Robin\", \"Barn Swallow\",\n",
    "    \"Tree Swallow\", \"Baltimore Oriole\", \"Eastern Bluebird\", \"Ruby-throated Hummingbird\",\n",
    "    \"Red-winged Blackbird\", \"Common Yellowthroat\", \"Indigo Bunting\", \"Eastern Meadowlark\",\n",
    "    \"Canada Goose\", \"Snow Goose\", \"Sandhill Crane\", \"Yellow Warbler\", \"Warbling Vireo\",\n",
    "    \"Swainson's Thrush\", \"Northern Parula\", \"Black-throated Green Warbler\", \"Hermit Thrush\",\n",
    "    \"Rose-breasted Grosbeak\", \"Dark-eyed Junco\", \"American Tree Sparrow\", \"Snow Bunting\",\n",
    "    \"Rough-legged Hawk\", \"Common Redpoll\", \"Pine Siskin\", \"Mallard\", \"Wood Duck\",\n",
    "    \"Great Blue Heron\", \"Killdeer\", \"Belted Kingfisher\", \"Spotted Sandpiper\",\n",
    "    \"Double-crested Cormorant\", \"Bald Eagle\", \"Red-tailed Hawk\", \"Cooper's Hawk\",\n",
    "    \"Sharp-shinned Hawk\", \"Peregrine Falcon\", \"American Kestrel\", \"Osprey\",\n",
    "    \"Northern Flicker\", \"Pileated Woodpecker\", \"Cedar Waxwing\", \"Yellow-bellied Sapsucker\",\n",
    "    \"Scarlet Tanager\", \"Northern Mockingbird\", \"Brown Thrasher\", \"Orchard Oriole\",\n",
    "    \"Eastern Phoebe\", \"Great Crested Flycatcher\"\n",
    "]"
   ]
  },
  {
   "cell_type": "code",
   "execution_count": null,
   "metadata": {},
   "outputs": [],
   "source": [
    "# Directory to save images\n",
    "path = Path('birds')\n",
    "\n",
    "# Download and preprocess bird images\n",
    "for species in bird_species:\n",
    "    dest = path / species\n",
    "    dest.mkdir(exist_ok=True, parents=True)\n",
    "    urls = search_images(f'{species} bird photo', max_images=100)\n",
    "    download_images(dest, urls=urls)\n",
    "    resize_images(dest, max_size=400, dest=dest)"
   ]
  },
  {
   "cell_type": "markdown",
   "metadata": {},
   "source": [
    "## Step 2: Train the Model"
   ]
  },
  {
   "cell_type": "code",
   "execution_count": null,
   "metadata": {},
   "outputs": [],
   "source": [
    "# Remove corrupted images\n",
    "failed = verify_images(get_image_files(path))\n",
    "failed.map(Path.unlink)\n",
    "print(f\"Number of failed images removed: {len(failed)}\")"
   ]
  },
  {
   "cell_type": "code",
   "execution_count": null,
   "metadata": {},
   "outputs": [],
   "source": [
    "# DataBlock for the bird dataset\n",
    "dls = DataBlock(\n",
    "    blocks=(ImageBlock, CategoryBlock),\n",
    "    get_items=get_image_files,\n",
    "    splitter=RandomSplitter(valid_pct=0.2, seed=42),\n",
    "    get_y=parent_label,\n",
    "    item_tfms=[Resize(192, method='squish')]\n",
    ").dataloaders(path, bs=32)\n",
    "\n",
    "# Show a batch of images\n",
    "dls.show_batch(max_n=6)"
   ]
  },
  {
   "cell_type": "code",
   "execution_count": null,
   "metadata": {},
   "outputs": [],
   "source": [
    "# Train the model using ResNet18\n",
    "learn = vision_learner(dls, resnet18, metrics=error_rate)\n",
    "learn.fine_tune(3)"
   ]
  },
  {
   "cell_type": "markdown",
   "metadata": {},
   "source": [
    "## Step 3: Test the Model"
   ]
  },
  {
   "cell_type": "code",
   "execution_count": null,
   "metadata": {},
   "outputs": [],
   "source": [
    "# Test with a sample image\n",
    "test_image = '../Birds Examples/Killdeer.jpg' \n",
    "predicted_species, _, probs = learn.predict(PILImage.create(test_image))\n",
    "print(f\"This is a: {predicted_species}.\")\n",
    "print(f\"Probability it's a {predicted_species}: {probs.max():.4f}\")"
   ]
  }
 ],
 "metadata": {
  "kernelspec": {
   "display_name": "Python 3",
   "language": "python",
   "name": "python3"
  },
  "language_info": {
   "codemirror_mode": {
    "name": "ipython",
    "version": 3
   },
   "file_extension": ".py",
   "mimetype": "text/x-python",
   "name": "python",
   "nbconvert_exporter": "python",
   "pygments_lexer": "ipython3",
   "version": "3.9.0"
  }
 },
 "nbformat": 4,
 "nbformat_minor": 4
}
